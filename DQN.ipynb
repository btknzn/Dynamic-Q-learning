{
 "cells": [
  {
   "cell_type": "markdown",
   "metadata": {},
   "source": [
    "# Deep Reinforcement Learning (DRL) "
   ]
  },
  {
   "cell_type": "markdown",
   "metadata": {},
   "source": [
    "Nowadays, Reinforcement Learning (RL) is a very important Machine Learning area. RL focuses on how agents take actions in an environment to maximize a reward. The agent-environment interaction is\n",
    "represented as a Markov Process. Having the model of the environment, this can be solved using dynamic programming. However, that is not the case in RL problems and the model of the\n",
    "environment can only be approximated using samples collected from the agent-environment interaction. Depending on what values of the model are approximated, the approaches are classified into\n",
    "model-free and model-based. Deep Q-learning (DQN) is a model-free approach that uses a greedy policy derived from the value function. DQN uses the same principles as Q-Learning,\n",
    "but approximates the Q-value function using Deep Neural Networks (DNNs). Thus, it is called Deep Reinforcement Learning (DRL).\n",
    "\n",
    "In this tutorial, we will use DRL to solve the Cartpole problem. This is a classical control task (Watch a real cart pole system in this [Video](https://www.youtube.com/watch?v=XiigTGKZfks&feature=youtu.be)). The goal is to control the pole so that it remains upright, while the cart stays in the initial position. The cart pole problem represents a task with four-dimensional states: position and velocity of the cart and pole respectively. RL methods aim to find the optimal actions i.e, optimal forces applied to the cart that achieve the goal. To that end, the reward function used is given in terms of the cart pole position."
   ]
  },
  {
   "cell_type": "markdown",
   "metadata": {},
   "source": [
    "In this tutorial, we will use DQN applied to play a CartPole game using Gym [1] to simulate the CartPole and Keras to work with DNN. Gym is a useful package to develop, compare, and use predefined RL agents. \n",
    "\n",
    "`*Please install Gym in your workspace!*`\n",
    "\n",
    "\n",
    "Moreover, you also need to install the package jdc (Jupyte Dynamic Classes). This package allows us to build a class across different cells in a Jupyter Notebook.\n",
    "\n",
    "`*Please install jdc in your workspace!*` (pip install jdc)"
   ]
  },
  {
   "cell_type": "markdown",
   "metadata": {},
   "source": [
    "** Now import keras, gym and jdc **"
   ]
  },
  {
   "cell_type": "code",
   "execution_count": 1,
   "metadata": {},
   "outputs": [
    {
     "name": "stdout",
     "output_type": "stream",
     "text": [
      "Requirement already satisfied: Gym in /Users/batukaanozen/opt/anaconda3/lib/python3.8/site-packages (0.18.0)\n",
      "Requirement already satisfied: numpy>=1.10.4 in /Users/batukaanozen/opt/anaconda3/lib/python3.8/site-packages (from Gym) (1.19.2)\n",
      "Requirement already satisfied: Pillow<=7.2.0 in /Users/batukaanozen/opt/anaconda3/lib/python3.8/site-packages (from Gym) (7.2.0)\n",
      "Requirement already satisfied: scipy in /Users/batukaanozen/opt/anaconda3/lib/python3.8/site-packages (from Gym) (1.5.2)\n",
      "Requirement already satisfied: cloudpickle<1.7.0,>=1.2.0 in /Users/batukaanozen/opt/anaconda3/lib/python3.8/site-packages (from Gym) (1.6.0)\n",
      "Requirement already satisfied: pyglet<=1.5.0,>=1.4.0 in /Users/batukaanozen/opt/anaconda3/lib/python3.8/site-packages (from Gym) (1.5.0)\n",
      "Requirement already satisfied: future in /Users/batukaanozen/opt/anaconda3/lib/python3.8/site-packages (from pyglet<=1.5.0,>=1.4.0->Gym) (0.18.2)\n",
      "Note: you may need to restart the kernel to use updated packages.\n"
     ]
    }
   ],
   "source": [
    "pip install Gym"
   ]
  },
  {
   "cell_type": "code",
   "execution_count": 2,
   "metadata": {},
   "outputs": [
    {
     "name": "stdout",
     "output_type": "stream",
     "text": [
      "Requirement already satisfied: jdc in /Users/batukaanozen/opt/anaconda3/lib/python3.8/site-packages (0.0.9)\n",
      "Note: you may need to restart the kernel to use updated packages.\n"
     ]
    }
   ],
   "source": [
    "pip install jdc"
   ]
  },
  {
   "cell_type": "code",
   "execution_count": 3,
   "metadata": {},
   "outputs": [
    {
     "name": "stdout",
     "output_type": "stream",
     "text": [
      "Requirement already satisfied: PyOpenGL in /Users/batukaanozen/opt/anaconda3/lib/python3.8/site-packages (3.1.5)\n",
      "Requirement already satisfied: PyOpenGL_accelerate in /Users/batukaanozen/opt/anaconda3/lib/python3.8/site-packages (3.1.5)\n",
      "Note: you may need to restart the kernel to use updated packages.\n"
     ]
    }
   ],
   "source": [
    "pip install PyOpenGL PyOpenGL_accelerate"
   ]
  },
  {
   "cell_type": "code",
   "execution_count": 4,
   "metadata": {},
   "outputs": [
    {
     "name": "stdout",
     "output_type": "stream",
     "text": [
      "\u001b[31mERROR: Could not find a version that satisfies the requirement python-opengl\u001b[0m\n",
      "\u001b[31mERROR: No matching distribution found for python-opengl\u001b[0m\n",
      "Note: you may need to restart the kernel to use updated packages.\n"
     ]
    }
   ],
   "source": [
    "pip install python-opengl"
   ]
  },
  {
   "cell_type": "code",
   "execution_count": 5,
   "metadata": {},
   "outputs": [],
   "source": [
    "\n",
    "import keras\n",
    "# RL environment\n",
    "import gym \n",
    "#pip install jdc (Jupyter Dynamic Classes)\n",
    "import jdc "
   ]
  },
  {
   "cell_type": "markdown",
   "metadata": {},
   "source": [
    "We will also need some packages for visualization, generation of random numbers, and generation of a memory replay mechanism [4]"
   ]
  },
  {
   "cell_type": "code",
   "execution_count": 6,
   "metadata": {},
   "outputs": [],
   "source": [
    "import numpy as np\n",
    "import random\n",
    "import matplotlib\n",
    "import matplotlib.pyplot as plt\n",
    "\n",
    "# Memory replay\n",
    "import collections"
   ]
  },
  {
   "cell_type": "markdown",
   "metadata": {},
   "source": [
    "## 1. Gym environment for CartPole\n",
    "\n",
    "In this tutorial, we will use the environment CartPole-v1 [2] already configured in Gym.\n",
    "The system has the following features:\n",
    "\n",
    "- **Goal** : Keep the pole upright. Get an accumulated reward of 500 i.e. an episode where for each time step the pole is upright.\n",
    "- **State** : [position of cart, velocity of cart, position of pole, angular velocity of pole]\n",
    "- **Action** : The cart is controlled by applying a force of +1 or -1. \n",
    "- **Reward** : A reward of +1 is provided for every timestep that the pole remains upright. \n",
    "- **Initial Condition**: The pendulum starts upright \n",
    "- **Final Conditions**: The episode ends when the pole is more than 15 degrees from vertical, or the cart moves more than 2.4 units from the center."
   ]
  },
  {
   "cell_type": "markdown",
   "metadata": {},
   "source": [
    "Before trying to control the cart pole. Let's get familiar with some basic functions from Gym to instantiate an env, execute an action, and render it.\n",
    "\n",
    "Define the number of `episodes` you will run the cart_pole and the number of `timesteps` that compose an episode.\n",
    "After executing the cell below, an external window will open and will display the cart pole when executing random actions. \n",
    "The pole will fall down!"
   ]
  },
  {
   "cell_type": "code",
   "execution_count": 7,
   "metadata": {},
   "outputs": [
    {
     "ename": "ImportError",
     "evalue": "\n    Error occurred while running `from pyglet.gl import *`\n    HINT: make sure you have OpenGL install. On Ubuntu, you can run 'apt-get install python-opengl'.\n    If you're running on a server, you may need a virtual frame buffer; something like this should work:\n    'xvfb-run -s \"-screen 0 1400x900x24\" python <your_script.py>'\n    ",
     "output_type": "error",
     "traceback": [
      "\u001b[0;31m---------------------------------------------------------------------------\u001b[0m",
      "\u001b[0;31mImportError\u001b[0m                               Traceback (most recent call last)",
      "\u001b[0;32m~/opt/anaconda3/lib/python3.8/site-packages/gym/envs/classic_control/rendering.py\u001b[0m in \u001b[0;36m<module>\u001b[0;34m\u001b[0m\n\u001b[1;32m     24\u001b[0m \u001b[0;32mtry\u001b[0m\u001b[0;34m:\u001b[0m\u001b[0;34m\u001b[0m\u001b[0;34m\u001b[0m\u001b[0m\n\u001b[0;32m---> 25\u001b[0;31m     \u001b[0;32mfrom\u001b[0m \u001b[0mpyglet\u001b[0m\u001b[0;34m.\u001b[0m\u001b[0mgl\u001b[0m \u001b[0;32mimport\u001b[0m \u001b[0;34m*\u001b[0m\u001b[0;34m\u001b[0m\u001b[0;34m\u001b[0m\u001b[0m\n\u001b[0m\u001b[1;32m     26\u001b[0m \u001b[0;32mexcept\u001b[0m \u001b[0mImportError\u001b[0m \u001b[0;32mas\u001b[0m \u001b[0me\u001b[0m\u001b[0;34m:\u001b[0m\u001b[0;34m\u001b[0m\u001b[0;34m\u001b[0m\u001b[0m\n",
      "\u001b[0;32m~/opt/anaconda3/lib/python3.8/site-packages/pyglet/gl/__init__.py\u001b[0m in \u001b[0;36m<module>\u001b[0;34m\u001b[0m\n\u001b[1;32m     94\u001b[0m \u001b[0;34m\u001b[0m\u001b[0m\n\u001b[0;32m---> 95\u001b[0;31m \u001b[0;32mfrom\u001b[0m \u001b[0mpyglet\u001b[0m\u001b[0;34m.\u001b[0m\u001b[0mgl\u001b[0m\u001b[0;34m.\u001b[0m\u001b[0mlib\u001b[0m \u001b[0;32mimport\u001b[0m \u001b[0mGLException\u001b[0m\u001b[0;34m\u001b[0m\u001b[0;34m\u001b[0m\u001b[0m\n\u001b[0m\u001b[1;32m     96\u001b[0m \u001b[0;32mfrom\u001b[0m \u001b[0mpyglet\u001b[0m\u001b[0;34m.\u001b[0m\u001b[0mgl\u001b[0m\u001b[0;34m.\u001b[0m\u001b[0mgl\u001b[0m \u001b[0;32mimport\u001b[0m \u001b[0;34m*\u001b[0m\u001b[0;34m\u001b[0m\u001b[0;34m\u001b[0m\u001b[0m\n",
      "\u001b[0;32m~/opt/anaconda3/lib/python3.8/site-packages/pyglet/gl/lib.py\u001b[0m in \u001b[0;36m<module>\u001b[0;34m\u001b[0m\n\u001b[1;32m    146\u001b[0m \u001b[0;32melif\u001b[0m \u001b[0mpyglet\u001b[0m\u001b[0;34m.\u001b[0m\u001b[0mcompat_platform\u001b[0m \u001b[0;34m==\u001b[0m \u001b[0;34m'darwin'\u001b[0m\u001b[0;34m:\u001b[0m\u001b[0;34m\u001b[0m\u001b[0;34m\u001b[0m\u001b[0m\n\u001b[0;32m--> 147\u001b[0;31m     \u001b[0;32mfrom\u001b[0m \u001b[0mpyglet\u001b[0m\u001b[0;34m.\u001b[0m\u001b[0mgl\u001b[0m\u001b[0;34m.\u001b[0m\u001b[0mlib_agl\u001b[0m \u001b[0;32mimport\u001b[0m \u001b[0mlink_GL\u001b[0m\u001b[0;34m,\u001b[0m \u001b[0mlink_GLU\u001b[0m\u001b[0;34m,\u001b[0m \u001b[0mlink_AGL\u001b[0m\u001b[0;34m\u001b[0m\u001b[0;34m\u001b[0m\u001b[0m\n\u001b[0m\u001b[1;32m    148\u001b[0m \u001b[0;32melse\u001b[0m\u001b[0;34m:\u001b[0m\u001b[0;34m\u001b[0m\u001b[0;34m\u001b[0m\u001b[0m\n",
      "\u001b[0;32m~/opt/anaconda3/lib/python3.8/site-packages/pyglet/gl/lib_agl.py\u001b[0m in \u001b[0;36m<module>\u001b[0;34m\u001b[0m\n\u001b[1;32m     42\u001b[0m \u001b[0;34m\u001b[0m\u001b[0m\n\u001b[0;32m---> 43\u001b[0;31m \u001b[0mgl_lib\u001b[0m \u001b[0;34m=\u001b[0m \u001b[0mpyglet\u001b[0m\u001b[0;34m.\u001b[0m\u001b[0mlib\u001b[0m\u001b[0;34m.\u001b[0m\u001b[0mload_library\u001b[0m\u001b[0;34m(\u001b[0m\u001b[0mframework\u001b[0m\u001b[0;34m=\u001b[0m\u001b[0;34m'/System/Library/Frameworks/OpenGL.framework'\u001b[0m\u001b[0;34m)\u001b[0m\u001b[0;34m\u001b[0m\u001b[0;34m\u001b[0m\u001b[0m\n\u001b[0m\u001b[1;32m     44\u001b[0m \u001b[0magl_lib\u001b[0m \u001b[0;34m=\u001b[0m \u001b[0mpyglet\u001b[0m\u001b[0;34m.\u001b[0m\u001b[0mlib\u001b[0m\u001b[0;34m.\u001b[0m\u001b[0mload_library\u001b[0m\u001b[0;34m(\u001b[0m\u001b[0mframework\u001b[0m\u001b[0;34m=\u001b[0m\u001b[0;34m'/System/Library/Frameworks/AGL.framework'\u001b[0m\u001b[0;34m)\u001b[0m\u001b[0;34m\u001b[0m\u001b[0;34m\u001b[0m\u001b[0m\n",
      "\u001b[0;32m~/opt/anaconda3/lib/python3.8/site-packages/pyglet/lib.py\u001b[0m in \u001b[0;36mload_library\u001b[0;34m(self, *names, **kwargs)\u001b[0m\n\u001b[1;32m    123\u001b[0m         \u001b[0;32mif\u001b[0m \u001b[0;34m'framework'\u001b[0m \u001b[0;32min\u001b[0m \u001b[0mkwargs\u001b[0m \u001b[0;32mand\u001b[0m \u001b[0mself\u001b[0m\u001b[0;34m.\u001b[0m\u001b[0mplatform\u001b[0m \u001b[0;34m==\u001b[0m \u001b[0;34m'darwin'\u001b[0m\u001b[0;34m:\u001b[0m\u001b[0;34m\u001b[0m\u001b[0;34m\u001b[0m\u001b[0m\n\u001b[0;32m--> 124\u001b[0;31m             \u001b[0;32mreturn\u001b[0m \u001b[0mself\u001b[0m\u001b[0;34m.\u001b[0m\u001b[0mload_framework\u001b[0m\u001b[0;34m(\u001b[0m\u001b[0mkwargs\u001b[0m\u001b[0;34m[\u001b[0m\u001b[0;34m'framework'\u001b[0m\u001b[0;34m]\u001b[0m\u001b[0;34m)\u001b[0m\u001b[0;34m\u001b[0m\u001b[0;34m\u001b[0m\u001b[0m\n\u001b[0m\u001b[1;32m    125\u001b[0m \u001b[0;34m\u001b[0m\u001b[0m\n",
      "\u001b[0;32m~/opt/anaconda3/lib/python3.8/site-packages/pyglet/lib.py\u001b[0m in \u001b[0;36mload_framework\u001b[0;34m(self, path)\u001b[0m\n\u001b[1;32m    278\u001b[0m \u001b[0;34m\u001b[0m\u001b[0m\n\u001b[0;32m--> 279\u001b[0;31m         \u001b[0;32mraise\u001b[0m \u001b[0mImportError\u001b[0m\u001b[0;34m(\u001b[0m\u001b[0;34m\"Can't find framework %s.\"\u001b[0m \u001b[0;34m%\u001b[0m \u001b[0mpath\u001b[0m\u001b[0;34m)\u001b[0m\u001b[0;34m\u001b[0m\u001b[0;34m\u001b[0m\u001b[0m\n\u001b[0m\u001b[1;32m    280\u001b[0m \u001b[0;34m\u001b[0m\u001b[0m\n",
      "\u001b[0;31mImportError\u001b[0m: Can't find framework /System/Library/Frameworks/OpenGL.framework.",
      "\nDuring handling of the above exception, another exception occurred:\n",
      "\u001b[0;31mImportError\u001b[0m                               Traceback (most recent call last)",
      "\u001b[0;32m<ipython-input-7-d76bf85f7cca>\u001b[0m in \u001b[0;36m<module>\u001b[0;34m\u001b[0m\n\u001b[1;32m     22\u001b[0m     \u001b[0menv\u001b[0m\u001b[0;34m.\u001b[0m\u001b[0mclose\u001b[0m\u001b[0;34m(\u001b[0m\u001b[0;34m)\u001b[0m\u001b[0;34m\u001b[0m\u001b[0;34m\u001b[0m\u001b[0m\n\u001b[1;32m     23\u001b[0m \u001b[0;34m\u001b[0m\u001b[0m\n\u001b[0;32m---> 24\u001b[0;31m \u001b[0mrandom_runs\u001b[0m\u001b[0;34m(\u001b[0m\u001b[0;34m)\u001b[0m\u001b[0;34m\u001b[0m\u001b[0;34m\u001b[0m\u001b[0m\n\u001b[0m",
      "\u001b[0;32m<ipython-input-7-d76bf85f7cca>\u001b[0m in \u001b[0;36mrandom_runs\u001b[0;34m()\u001b[0m\n\u001b[1;32m     10\u001b[0m         \u001b[0;32mfor\u001b[0m \u001b[0mt\u001b[0m \u001b[0;32min\u001b[0m \u001b[0mrange\u001b[0m\u001b[0;34m(\u001b[0m\u001b[0mtimesteps\u001b[0m\u001b[0;34m)\u001b[0m\u001b[0;34m:\u001b[0m\u001b[0;34m\u001b[0m\u001b[0;34m\u001b[0m\u001b[0m\n\u001b[1;32m     11\u001b[0m             \u001b[0;31m# Render the cartpole\u001b[0m\u001b[0;34m\u001b[0m\u001b[0;34m\u001b[0m\u001b[0;34m\u001b[0m\u001b[0m\n\u001b[0;32m---> 12\u001b[0;31m             \u001b[0menv\u001b[0m\u001b[0;34m.\u001b[0m\u001b[0mrender\u001b[0m\u001b[0;34m(\u001b[0m\u001b[0mmode\u001b[0m\u001b[0;34m=\u001b[0m\u001b[0;34m'rgb_array'\u001b[0m\u001b[0;34m)\u001b[0m\u001b[0;34m\u001b[0m\u001b[0;34m\u001b[0m\u001b[0m\n\u001b[0m\u001b[1;32m     13\u001b[0m \u001b[0;34m\u001b[0m\u001b[0m\n\u001b[1;32m     14\u001b[0m             \u001b[0;31m# This will sample an action of the action set\u001b[0m\u001b[0;34m\u001b[0m\u001b[0;34m\u001b[0m\u001b[0;34m\u001b[0m\u001b[0m\n",
      "\u001b[0;32m~/opt/anaconda3/lib/python3.8/site-packages/gym/core.py\u001b[0m in \u001b[0;36mrender\u001b[0;34m(self, mode, **kwargs)\u001b[0m\n\u001b[1;32m    238\u001b[0m \u001b[0;34m\u001b[0m\u001b[0m\n\u001b[1;32m    239\u001b[0m     \u001b[0;32mdef\u001b[0m \u001b[0mrender\u001b[0m\u001b[0;34m(\u001b[0m\u001b[0mself\u001b[0m\u001b[0;34m,\u001b[0m \u001b[0mmode\u001b[0m\u001b[0;34m=\u001b[0m\u001b[0;34m'human'\u001b[0m\u001b[0;34m,\u001b[0m \u001b[0;34m**\u001b[0m\u001b[0mkwargs\u001b[0m\u001b[0;34m)\u001b[0m\u001b[0;34m:\u001b[0m\u001b[0;34m\u001b[0m\u001b[0;34m\u001b[0m\u001b[0m\n\u001b[0;32m--> 240\u001b[0;31m         \u001b[0;32mreturn\u001b[0m \u001b[0mself\u001b[0m\u001b[0;34m.\u001b[0m\u001b[0menv\u001b[0m\u001b[0;34m.\u001b[0m\u001b[0mrender\u001b[0m\u001b[0;34m(\u001b[0m\u001b[0mmode\u001b[0m\u001b[0;34m,\u001b[0m \u001b[0;34m**\u001b[0m\u001b[0mkwargs\u001b[0m\u001b[0;34m)\u001b[0m\u001b[0;34m\u001b[0m\u001b[0;34m\u001b[0m\u001b[0m\n\u001b[0m\u001b[1;32m    241\u001b[0m \u001b[0;34m\u001b[0m\u001b[0m\n\u001b[1;32m    242\u001b[0m     \u001b[0;32mdef\u001b[0m \u001b[0mclose\u001b[0m\u001b[0;34m(\u001b[0m\u001b[0mself\u001b[0m\u001b[0;34m)\u001b[0m\u001b[0;34m:\u001b[0m\u001b[0;34m\u001b[0m\u001b[0;34m\u001b[0m\u001b[0m\n",
      "\u001b[0;32m~/opt/anaconda3/lib/python3.8/site-packages/gym/envs/classic_control/cartpole.py\u001b[0m in \u001b[0;36mrender\u001b[0;34m(self, mode)\u001b[0m\n\u001b[1;32m    172\u001b[0m \u001b[0;34m\u001b[0m\u001b[0m\n\u001b[1;32m    173\u001b[0m         \u001b[0;32mif\u001b[0m \u001b[0mself\u001b[0m\u001b[0;34m.\u001b[0m\u001b[0mviewer\u001b[0m \u001b[0;32mis\u001b[0m \u001b[0;32mNone\u001b[0m\u001b[0;34m:\u001b[0m\u001b[0;34m\u001b[0m\u001b[0;34m\u001b[0m\u001b[0m\n\u001b[0;32m--> 174\u001b[0;31m             \u001b[0;32mfrom\u001b[0m \u001b[0mgym\u001b[0m\u001b[0;34m.\u001b[0m\u001b[0menvs\u001b[0m\u001b[0;34m.\u001b[0m\u001b[0mclassic_control\u001b[0m \u001b[0;32mimport\u001b[0m \u001b[0mrendering\u001b[0m\u001b[0;34m\u001b[0m\u001b[0;34m\u001b[0m\u001b[0m\n\u001b[0m\u001b[1;32m    175\u001b[0m             \u001b[0mself\u001b[0m\u001b[0;34m.\u001b[0m\u001b[0mviewer\u001b[0m \u001b[0;34m=\u001b[0m \u001b[0mrendering\u001b[0m\u001b[0;34m.\u001b[0m\u001b[0mViewer\u001b[0m\u001b[0;34m(\u001b[0m\u001b[0mscreen_width\u001b[0m\u001b[0;34m,\u001b[0m \u001b[0mscreen_height\u001b[0m\u001b[0;34m)\u001b[0m\u001b[0;34m\u001b[0m\u001b[0;34m\u001b[0m\u001b[0m\n\u001b[1;32m    176\u001b[0m             \u001b[0ml\u001b[0m\u001b[0;34m,\u001b[0m \u001b[0mr\u001b[0m\u001b[0;34m,\u001b[0m \u001b[0mt\u001b[0m\u001b[0;34m,\u001b[0m \u001b[0mb\u001b[0m \u001b[0;34m=\u001b[0m \u001b[0;34m-\u001b[0m\u001b[0mcartwidth\u001b[0m \u001b[0;34m/\u001b[0m \u001b[0;36m2\u001b[0m\u001b[0;34m,\u001b[0m \u001b[0mcartwidth\u001b[0m \u001b[0;34m/\u001b[0m \u001b[0;36m2\u001b[0m\u001b[0;34m,\u001b[0m \u001b[0mcartheight\u001b[0m \u001b[0;34m/\u001b[0m \u001b[0;36m2\u001b[0m\u001b[0;34m,\u001b[0m \u001b[0;34m-\u001b[0m\u001b[0mcartheight\u001b[0m \u001b[0;34m/\u001b[0m \u001b[0;36m2\u001b[0m\u001b[0;34m\u001b[0m\u001b[0;34m\u001b[0m\u001b[0m\n",
      "\u001b[0;32m~/opt/anaconda3/lib/python3.8/site-packages/gym/envs/classic_control/rendering.py\u001b[0m in \u001b[0;36m<module>\u001b[0;34m\u001b[0m\n\u001b[1;32m     25\u001b[0m     \u001b[0;32mfrom\u001b[0m \u001b[0mpyglet\u001b[0m\u001b[0;34m.\u001b[0m\u001b[0mgl\u001b[0m \u001b[0;32mimport\u001b[0m \u001b[0;34m*\u001b[0m\u001b[0;34m\u001b[0m\u001b[0;34m\u001b[0m\u001b[0m\n\u001b[1;32m     26\u001b[0m \u001b[0;32mexcept\u001b[0m \u001b[0mImportError\u001b[0m \u001b[0;32mas\u001b[0m \u001b[0me\u001b[0m\u001b[0;34m:\u001b[0m\u001b[0;34m\u001b[0m\u001b[0;34m\u001b[0m\u001b[0m\n\u001b[0;32m---> 27\u001b[0;31m     raise ImportError('''\n\u001b[0m\u001b[1;32m     28\u001b[0m     \u001b[0mError\u001b[0m \u001b[0moccurred\u001b[0m \u001b[0;32mwhile\u001b[0m \u001b[0mrunning\u001b[0m\u001b[0;31m \u001b[0m\u001b[0;31m`\u001b[0m\u001b[0;32mfrom\u001b[0m \u001b[0mpyglet\u001b[0m\u001b[0;34m.\u001b[0m\u001b[0mgl\u001b[0m \u001b[0;32mimport\u001b[0m \u001b[0;34m*\u001b[0m\u001b[0;31m`\u001b[0m\u001b[0;34m\u001b[0m\u001b[0;34m\u001b[0m\u001b[0m\n\u001b[1;32m     29\u001b[0m     \u001b[0mHINT\u001b[0m\u001b[0;34m:\u001b[0m \u001b[0mmake\u001b[0m \u001b[0msure\u001b[0m \u001b[0myou\u001b[0m \u001b[0mhave\u001b[0m \u001b[0mOpenGL\u001b[0m \u001b[0minstall\u001b[0m\u001b[0;34m.\u001b[0m \u001b[0mOn\u001b[0m \u001b[0mUbuntu\u001b[0m\u001b[0;34m,\u001b[0m \u001b[0myou\u001b[0m \u001b[0mcan\u001b[0m \u001b[0mrun\u001b[0m \u001b[0;34m'apt-get install python-opengl'\u001b[0m\u001b[0;34m.\u001b[0m\u001b[0;34m\u001b[0m\u001b[0;34m\u001b[0m\u001b[0m\n",
      "\u001b[0;31mImportError\u001b[0m: \n    Error occurred while running `from pyglet.gl import *`\n    HINT: make sure you have OpenGL install. On Ubuntu, you can run 'apt-get install python-opengl'.\n    If you're running on a server, you may need a virtual frame buffer; something like this should work:\n    'xvfb-run -s \"-screen 0 1400x900x24\" python <your_script.py>'\n    "
     ]
    }
   ],
   "source": [
    "def random_runs():\n",
    "    \n",
    "    episodes = 5 # TO DO: Run it for more episodes\n",
    "    timesteps = 100 # TO DO: Add more steps\n",
    "    \n",
    "    env = gym.make(\"CartPole-v1\") # instantiate which env to use\n",
    "    \n",
    "    for e in range(episodes): \n",
    "        env.reset()\n",
    "        for t in range(timesteps):\n",
    "            # Render the cartpole\n",
    "            env.render(mode='rgb_array')\n",
    "\n",
    "            # This will sample an action of the action set\n",
    "            # Here only two options, move cart to left or to right\n",
    "            action = env.action_space.sample()\n",
    "\n",
    "            # Execute previous sampled action\n",
    "            next_state, reward, done, info = env.step(action)\n",
    "\n",
    "        print(\"Episode= {} Act= {}, Next_state= {}\".format(e, action, next_state))\n",
    "    env.close()\n",
    "\n",
    "random_runs()"
   ]
  },
  {
   "cell_type": "markdown",
   "metadata": {},
   "source": [
    "## 2. Define a DNN:\n",
    "\n",
    "Create a function that takes the `state_size` and `action_size` as input parameters.\n",
    "Inside the function, build a DNN with 4 Dense layers, where `input_size = state_size` and `output_size = action_size` \n",
    "\n",
    "This DNN can be declared as previous tutorials using Keras. Notice that this is not a Sequential Model. But it is an alternative way to define models in Keras, using a separated Input layer.\n",
    "\n",
    "This DNN will learn to predict the reward of current state based on the data we trained. Thus, it is a regression problem! "
   ]
  },
  {
   "cell_type": "markdown",
   "metadata": {},
   "source": [
    "** Complete the function DNN() with the parameters that are missing **"
   ]
  },
  {
   "cell_type": "code",
   "execution_count": null,
   "metadata": {},
   "outputs": [],
   "source": [
    "# Neural Network model for Deep Q Learning\n",
    "\n",
    "def DNN(input_size, action_size):\n",
    "\n",
    "    input_sample = keras.layers.Input( ) # TO DO: specify the input size\n",
    "    \n",
    "    x = keras.layers.Dense(512, input_shape=input_size, activation=\"relu\", kernel_initializer='he_uniform')(input_sample) \n",
    "    x = keras.layers.Dense(256, activation=\"relu\", kernel_initializer='he_uniform')(x)\n",
    "    x = keras.layers.Dense(64, activation=\"relu\", kernel_initializer='he_uniform')(x)\n",
    "    \n",
    "    x = keras.layers.Dense(             , # TO DO: specify the number of neurons given the output_size\n",
    "                           activation=  ,  # TO DO: specify a proper activation function for a regression problem\n",
    "                           kernel_initializer='he_uniform')(x) \n",
    "\n",
    "    model = keras.models.Model(inputs=input_sample, outputs=x)\n",
    "    \n",
    "    model.compile(loss=                  , #TO DO: Choose a proper loss for regression \n",
    "                  optimizer=keras.optimizers.RMSprop(lr=0.00025, rho=0.95, epsilon=0.01),\n",
    "                  metrics=[\"accuracy\"])\n",
    "\n",
    "    return model"
   ]
  },
  {
   "cell_type": "markdown",
   "metadata": {},
   "source": [
    "** Instantiate a DNN for a system with state_size =4 and action_size=2 and print model summary **"
   ]
  },
  {
   "cell_type": "code",
   "execution_count": null,
   "metadata": {},
   "outputs": [],
   "source": [
    "test_model = DNN(input_size=(4,), action_size=2)\n",
    "test_model.summary()"
   ]
  },
  {
   "cell_type": "markdown",
   "metadata": {},
   "source": [
    "## 3. Implementing DQN"
   ]
  },
  {
   "cell_type": "markdown",
   "metadata": {},
   "source": [
    "The easiest way to implement DQN is creating a class DQNAgent(), which contains the following functions:\n",
    "\n",
    "    1. initialize_agent() \n",
    "    \n",
    "    2. greedy_exploration() \n",
    "    \n",
    "    3. fill_replay_memory()\n",
    "    \n",
    "    4. train()\n",
    "    \n",
    "    5. run()\n",
    "    \n",
    "    6. test_episode()\n",
    "    "
   ]
  },
  {
   "cell_type": "markdown",
   "metadata": {},
   "source": [
    "##### 3.1 Initialize Agent"
   ]
  },
  {
   "cell_type": "markdown",
   "metadata": {},
   "source": [
    "It sets the environment, the DNN and hyperparameters"
   ]
  },
  {
   "cell_type": "code",
   "execution_count": null,
   "metadata": {},
   "outputs": [],
   "source": [
    "class DQNAgent:\n",
    "    def __init__(self):\n",
    "        # Define the env\n",
    "        self.env = gym.make( ) # TO DO: Select the CartPole-v1\n",
    "        \n",
    "        self.state_size = self.env.observation_space.shape[0]\n",
    "        self.action_size = self.env.action_space.n\n",
    "        \n",
    "        # Set hyperparameters\n",
    "        self.runs = 1\n",
    "        self.episodes = 1000 # by default, CartPole-v1 has max episode steps = 500\n",
    "        self.memory = collections.deque(maxlen=2000) # replay memory\n",
    "        self.gamma = 0.95   # discount rate\n",
    "        self.epsilon = 1.0  # exploration rate\n",
    "        self.epsilon_min = 0.001\n",
    "        self.epsilon_decay = 0.999\n",
    "        self.batch_size = 64\n",
    "        self.train_start = 1000\n",
    "        self.R_final = []\n",
    "        self.acc_reward = []\n",
    "\n",
    "        # Create our main model\n",
    "        self.model = DNN(input_size=(self.state_size,), action_size = self.action_size)\n",
    "        self.model.summary()"
   ]
  },
  {
   "cell_type": "markdown",
   "metadata": {},
   "source": [
    "#### 3.2 Greedy Exploration of the action space"
   ]
  },
  {
   "cell_type": "markdown",
   "metadata": {},
   "source": [
    "It selects the next action to execute using Epsilon-Greedy Exploration Exploitation. Epsilon Greedy Exploration is an exploration strategy that explores a state space with probability `p=epsilon` and exploits it with a probability of `p=1-epsilon`, where `epsilon` is a hyperparameter. \n",
    "Epsilon represents a trade-off between exploration i.e. randomly choose actions, and exploitation i.e. follow the current policy."
   ]
  },
  {
   "cell_type": "code",
   "execution_count": null,
   "metadata": {},
   "outputs": [],
   "source": [
    "%%add_to DQNAgent \n",
    "# magic cell %%add_to from jdc. It adds the greedy_exploration() function to the class DQNAgent()\n",
    "\n",
    "import random\n",
    "import numpy as np\n",
    "\n",
    "def greedy_exploration(self, state):\n",
    "        p =   # TO DO: generate a random number between 0 and 1\n",
    "        \n",
    "        if  p <= self.epsilon: # exploration\n",
    "            return random.randrange(self.action_size)\n",
    "        else: # explotaition\n",
    "            return np.argmax(self.model.predict(state)) # action with maximum predicted Q value given state"
   ]
  },
  {
   "cell_type": "markdown",
   "metadata": {},
   "source": [
    "#### 3.3 Fill replay memory"
   ]
  },
  {
   "cell_type": "markdown",
   "metadata": {},
   "source": [
    "It stores [state, action, reward, next_state, done_flag] of the current timestep into the memory mechanism\n",
    "Moreover, we can boost our algorithm using an epsilon decay strategy. As we want to explore more at the beginning and then, decrease the number of explorations."
   ]
  },
  {
   "cell_type": "code",
   "execution_count": null,
   "metadata": {},
   "outputs": [],
   "source": [
    "%%add_to DQNAgent\n",
    "\n",
    "def fill_memory(self, state, action, reward, next_state, done):\n",
    "    \n",
    "    self.memory.append((  )) # TO DO: append input arguments to the memory\n",
    "    \n",
    "    # once, it trains, explore more at the beginning\n",
    "    if len(self.memory) > self.train_start:\n",
    "        if self.epsilon > self.epsilon_min:\n",
    "            self.epsilon *= self.epsilon_decay"
   ]
  },
  {
   "cell_type": "markdown",
   "metadata": {},
   "source": [
    "#### 3.4 Train function for the agent"
   ]
  },
  {
   "cell_type": "markdown",
   "metadata": {},
   "source": [
    "It constructs training data from the memory to train our DNN. It uses our DNN to predict the current reward and constructs the truth labels for the training data. \n",
    "Finally, it trains the DNN"
   ]
  },
  {
   "cell_type": "code",
   "execution_count": null,
   "metadata": {},
   "outputs": [],
   "source": [
    "%%add_to DQNAgent\n",
    "\n",
    "def train(self):\n",
    "    # First fill memory with enough samples (1000) and then start training\n",
    "    if len(self.memory) < self.train_start:\n",
    "        return\n",
    "\n",
    "    # construct training data from memory\n",
    "    # randomly select samples from the memory to construct a batch\n",
    "    memory_batch = random.sample(self.memory, min(len(self.memory), self.batch_size))\n",
    "\n",
    "    state = np.zeros((self.batch_size, self.state_size))\n",
    "    next_state = np.zeros((self.batch_size, self.state_size))\n",
    "\n",
    "    action, reward, done = [], [], []\n",
    "        \n",
    "    for ind in range(self.batch_size):\n",
    "        state[ind] = memory_batch[ind][0]\n",
    "        action.append(memory_batch[ind][1])\n",
    "        reward.append(memory_batch[ind][2])\n",
    "        next_state[ind] = memory_batch[ind][3]\n",
    "        done.append(memory_batch[ind][4])\n",
    "\n",
    "    # Use our DNN to predict reward given a state\n",
    "    # predicte next Qmax(s',a')\n",
    "    target = self.model.predict(state)\n",
    "    target_next = self.model.predict( ) #TO DO predict target_next\n",
    "\n",
    "    # construct truth labels for training data \n",
    "    for i in range(self.batch_size):\n",
    "        if done[i]:\n",
    "            target[i][action[i]] = reward[i]\n",
    "        else:\n",
    "            # Standard - DQN\n",
    "            # DQN chooses the max Q value among next actions\n",
    "            # selection and evaluation of action is on the target Q Network\n",
    "            # Q_max = max_a' Q_target(s', a')\n",
    "            \n",
    "            target[i][action[i]] = reward[i] + self.gamma * (np.amax(target_next[i]))\n",
    "\n",
    "    # Train our DNN with batches\n",
    "    # Use verbose=1 see training accuracy\n",
    "    self.model.fit(state, target, batch_size=self.batch_size, verbose=0)"
   ]
  },
  {
   "cell_type": "markdown",
   "metadata": {},
   "source": [
    "#### 3.5 Run Agent and train it"
   ]
  },
  {
   "cell_type": "markdown",
   "metadata": {},
   "source": [
    "Main function. It runs each episode and each timestep. \n",
    "It selects the action for each timestep using greedy_exploration().\n",
    "It executes the action and fetches the reward and next state for that action.\n",
    "The memory is filled with new values.\n",
    "If the accumulated reward is not 500, it calls train(). If 500 is reached, the trained weights of the DNN are saved and the training is  finished.\n"
   ]
  },
  {
   "cell_type": "code",
   "execution_count": null,
   "metadata": {},
   "outputs": [],
   "source": [
    "%%add_to DQNAgent\n",
    "\n",
    "def run(self):\n",
    "    for e in range(self.episodes):\n",
    "        # Go to initial position\n",
    "        state = self.env.reset()\n",
    "        done = False\n",
    "        # get state\n",
    "        state = np.reshape(state, [1, self.state_size])\n",
    "        i = 0\n",
    "        r_test = []\n",
    "        r_test.append(0)\n",
    "\n",
    "        while not done:\n",
    "            #self.env.render()\n",
    "            \n",
    "            # select action randomly or following policy\n",
    "            action = self.greedy_exploration(state)\n",
    "                \n",
    "            # perform  action\n",
    "            next_state, reward, done, _ = self.env.step(action)\n",
    "            next_state = np.reshape(next_state, [1, self.state_size])\n",
    "            r_test.append(reward)\n",
    "            \n",
    "            if not done or i == self.env._max_episode_steps-1:\n",
    "                reward = reward\n",
    "            else:\n",
    "                reward = -100\n",
    "            \n",
    "            \n",
    "            # Experience replay.\n",
    "            # Save try in the memory D\n",
    "            self.fill_memory(state, action, reward, next_state, done)\n",
    "\n",
    "            # Update state\n",
    "            state = next_state\n",
    "            i = i + 1\n",
    "            \n",
    "            # If done, save trained model and exit\n",
    "            if done:\n",
    "                self.acc_reward.append(i)\n",
    "                print(\"Episode:{}/{}, Accumulated Reward:{}, eps: {:.2}\".format(e, self.episodes, i, self.epsilon))\n",
    "                \n",
    "                # Save accumulated reward for plotting\n",
    "                if i == 500 :\n",
    "                    print(\"Saving trained model as cartpole-dqn.h5\")\n",
    "                    self.model.save(\"cartpole-dqn.h5\") \n",
    "                    return\n",
    "                    \n",
    "            # Train model using replay memory\n",
    "            self.train()\n",
    "\n",
    "            #End of simulation step\n",
    "        # Accumulated reward\n",
    "        R = 0\n",
    "        \n",
    "        for t in range(len(r_test)-1):\n",
    "            R = R + (self.gamma ** (t)) * r_test[t + 1]\n",
    "\n",
    "        self.R_final.append(R)\n",
    "            \n",
    "        # End of an episode"
   ]
  },
  {
   "cell_type": "markdown",
   "metadata": {},
   "source": [
    "#### 3.6 Test Agent"
   ]
  },
  {
   "cell_type": "markdown",
   "metadata": {},
   "source": [
    "The DNN will predict the action that maximizes the reward. It always selects the action following the learned policy and never the greedy_exploration()"
   ]
  },
  {
   "cell_type": "code",
   "execution_count": null,
   "metadata": {},
   "outputs": [],
   "source": [
    "%%add_to DQNAgent\n",
    "\n",
    "def test_episode(self, e=None, plot_test=False):\n",
    "    episodes = 50\n",
    "    for e in range(episodes):\n",
    "        # Reset environment\n",
    "        state = self.env.reset()\n",
    "        state = np.reshape(state, [1, self.state_size])\n",
    "        done = False\n",
    "        i = 0\n",
    "        \n",
    "        while not done:\n",
    "            #Plot\n",
    "            if plot_test==True:\n",
    "                self.env.render(mode='rgb_array')\n",
    "                \n",
    "            \n",
    "            # TO DO: select action following learned policy\n",
    "            # not from the greedy exploration!\n",
    "            action = \n",
    "\n",
    "            # perform action\n",
    "            next_state, reward, done, _ = self.env.step(action)\n",
    "            state = np.reshape(next_state, [1, self.state_size])\n",
    "            \n",
    "            i += 1\n",
    "\n",
    "            if done:\n",
    "                print(\"Episode: {}/{}, Accumulated Reward: {}\".format(e, episodes, i))\n",
    "                break\n",
    "\n",
    "    self.env.close()"
   ]
  },
  {
   "cell_type": "markdown",
   "metadata": {},
   "source": [
    "## 4.  It is time to use the DQNAgent() Class!"
   ]
  },
  {
   "cell_type": "markdown",
   "metadata": {},
   "source": [
    "First, we need to declare an instance of the class, what we call `agent`.\n",
    "We train this agent using the member function `run()`\n",
    "It will take some time until we reach the goal of a reward equal to 500.\n",
    "Once it is done, you will have a *.h5 file located in the same folder as this notebook.\n",
    "This *.h5 contains the pre-trained weights of our DNN()."
   ]
  },
  {
   "cell_type": "code",
   "execution_count": null,
   "metadata": {},
   "outputs": [],
   "source": [
    "# First instantiate an agent from class DQNAgent()\n",
    "agent = DQNAgent()\n",
    "# Run it\n",
    "agent.run()\n"
   ]
  },
  {
   "cell_type": "markdown",
   "metadata": {},
   "source": [
    "After some episodes, the reward will be 500, the model is saved and now you can use your agent!"
   ]
  },
  {
   "cell_type": "markdown",
   "metadata": {},
   "source": [
    "** Plot the sum of future discounted rewards R_final **"
   ]
  },
  {
   "cell_type": "code",
   "execution_count": null,
   "metadata": {},
   "outputs": [],
   "source": [
    "%matplotlib inline\n",
    "\n",
    "actual_episodes = len(agent.R_final)\n",
    "\n",
    "plt.plot(np.linspace(0, actual_episodes,actual_episodes), agent.R_final)\n",
    "plt.show()"
   ]
  },
  {
   "cell_type": "markdown",
   "metadata": {},
   "source": [
    "** Plot the accumulated reward per each episode acc_reward**"
   ]
  },
  {
   "cell_type": "code",
   "execution_count": null,
   "metadata": {},
   "outputs": [],
   "source": [
    "%matplotlib inline\n",
    "actual_episodes = len(agent.acc_reward)\n",
    "plt.plot(np.linspace(0, actual_episodes, actual_episodes), agent.acc_reward)\n",
    "plt.show()"
   ]
  },
  {
   "cell_type": "markdown",
   "metadata": {},
   "source": [
    "## 5. Testing your agent"
   ]
  },
  {
   "cell_type": "markdown",
   "metadata": {},
   "source": [
    "Now that you have trained the agent, load the pre-trained weights, and run the agent using test_episode(). In this way, the selected action always comes from the prediction of the DNN and not from the greedy exploration-exploitation function. During training, we achieved our goal (a reward of 500). Therefore, now the CartPole should be controlled, and the pole is upright! Run it and see it for yourself!"
   ]
  },
  {
   "cell_type": "code",
   "execution_count": null,
   "metadata": {},
   "outputs": [],
   "source": [
    "# Load trained model\n",
    "agent.model = keras.models.load_model(\"cartpole-dqn.h5\")\n",
    "agent.test_episode(plot_test=True)"
   ]
  },
  {
   "cell_type": "markdown",
   "metadata": {},
   "source": [
    "Moreover, we see that reward 500 is achieved after fewer episodes (approx. 10) than during training. Our agent learned the best actions to keep the pole upright and the cart in the center! For better results, train more episodes!"
   ]
  },
  {
   "cell_type": "markdown",
   "metadata": {},
   "source": [
    "### Final Comments\n",
    "\n",
    "This was a simple example of DQN. There are a lot of possible applications, environments [3], and different rules for each environment. For instance, in the cart pole problem, we can define a continuos larger action space, the initial and final conditions can also be different. We could have added friction to the environment, etc. Moreover, Gym not only provides pre-defined environments but also the possibility to create your own."
   ]
  },
  {
   "cell_type": "markdown",
   "metadata": {},
   "source": [
    "### *References* \n",
    "\n",
    "[1] Gym: http://gym.openai.com/\n",
    "\n",
    "[2] Cart pole: http://gym.openai.com/envs/CartPole-v1/\n",
    "\n",
    "[3] List of Gym Environments: https://github.com/openai/gym/wiki/Table-of-environments\n",
    "\n",
    "[4] Collections: https://docs.python.org/3/library/collections.html \n",
    "\n",
    "[5] Online Tutorial: https://pylessons.com/CartPole-reinforcement-learning/ "
   ]
  },
  {
   "cell_type": "code",
   "execution_count": null,
   "metadata": {},
   "outputs": [],
   "source": []
  }
 ],
 "metadata": {
  "kernelspec": {
   "display_name": "Python 3",
   "language": "python",
   "name": "python3"
  },
  "language_info": {
   "codemirror_mode": {
    "name": "ipython",
    "version": 3
   },
   "file_extension": ".py",
   "mimetype": "text/x-python",
   "name": "python",
   "nbconvert_exporter": "python",
   "pygments_lexer": "ipython3",
   "version": "3.8.5"
  }
 },
 "nbformat": 4,
 "nbformat_minor": 4
}
